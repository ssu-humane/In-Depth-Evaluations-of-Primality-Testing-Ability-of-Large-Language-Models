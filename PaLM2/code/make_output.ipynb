{
 "cells": [
  {
   "cell_type": "code",
   "execution_count": 17,
   "metadata": {},
   "outputs": [
    {
     "name": "stdout",
     "output_type": "stream",
     "text": [
      "649 is an odd number. 649 is not divisible by 2. 649 is not divisible by 3. 649 is not divisible by 5. 649 is not divisible by 7. 649 is not divisible by 11. 649 is not divisible by 13. 649 is not divisible by 17. 649 is not divisible by 19. 649 is not divisible by 23. 649 is not divisible by 29. 64\n"
     ]
    }
   ],
   "source": [
    "import vertexai\n",
    "from vertexai.language_models import TextGenerationModel\n",
    "\n",
    "def PaLM2(query):\n",
    "    # personal project information \n",
    "    project_id=\"jok-414907\"\n",
    "    location=\"asia-northeast3\"\n",
    "    \n",
    "    vertexai.init(project=project_id, location=location)\n",
    "    \n",
    "    parameters = {}\n",
    "    model = TextGenerationModel.from_pretrained(\"text-bison@001\")    \n",
    "    response = model.predict(query, **parameters)\n",
    "    \n",
    "    return response.text\n",
    "\n",
    "if __name__ == \"__main__\":\n",
    "    text = PaLM2(\"Is 649 a prime number? \\nLet's think step by step.\")\n",
    "    print(text)"
   ]
  },
  {
   "cell_type": "code",
   "execution_count": 26,
   "metadata": {},
   "outputs": [],
   "source": [
    "import json \n",
    "\n",
    "def write_output(question, file_path):\n",
    "    answer = PaLM2(question)\n",
    "    answer = \"###\\n\" + answer + \"\\n\"\n",
    "    f = open(file_path, \"a\", encoding=\"UTF-8\")\n",
    "    f.write(answer)\n",
    "    f.close()\n",
    "\n",
    "def make_output(save_file, json_file):\n",
    "    with open(json_file) as file:\n",
    "        querys = json.load(file)\n",
    "    q_len = len(querys[0])-2\n",
    "    f = open(save_file, \"a+t\", encoding='UTF-8')\n",
    "    f.close()\n",
    "    print(\"Opened the file...\")\n",
    "    \n",
    "    # for restarting code because of error\n",
    "    for i in range(5):\n",
    "        try:\n",
    "            f = open(save_file, \"r\", encoding='UTF-8')\n",
    "            text = f.read()\n",
    "            x_idx = text.count(\"###\") // q_len\n",
    "            q_idx = text.count(\"###\") %  q_len\n",
    "            \n",
    "            if x_idx >= len(querys):\n",
    "                break \n",
    "\n",
    "            for query in querys[x_idx:]:\n",
    "                query = list(query.values())[:-2]\n",
    "                for question in query[q_idx:]:\n",
    "                    write_output(question, save_file)\n",
    "                q_idx = 0\n",
    "                \n",
    "        except Exception as e:\n",
    "            print(e)\n",
    "    f.close()\n",
    "    print(\"Closeed the file...\")\n",
    "    "
   ]
  },
  {
   "cell_type": "code",
   "execution_count": 27,
   "metadata": {},
   "outputs": [
    {
     "name": "stdout",
     "output_type": "stream",
     "text": [
      "Opened the file...\n",
      "Closeed the file...\n"
     ]
    }
   ],
   "source": [
    "json_file = \"../json_sampled/1_digit_prime.json\"\n",
    "save_file = \"../output2/1_digit_prime_output.txt\"\n",
    "make_output(save_file, json_file)"
   ]
  },
  {
   "cell_type": "code",
   "execution_count": 28,
   "metadata": {},
   "outputs": [
    {
     "name": "stdout",
     "output_type": "stream",
     "text": [
      "Opened the file...\n",
      "Closeed the file...\n"
     ]
    }
   ],
   "source": [
    "test_difficulty = \"2_digit_composite\"\n",
    "\n",
    "json_file = f\"../json_sampled/{test_difficulty}.json\"\n",
    "save_file = f\"../output2/{test_difficulty}.txt\"\n",
    "make_output(save_file, json_file)"
   ]
  },
  {
   "cell_type": "code",
   "execution_count": 29,
   "metadata": {},
   "outputs": [
    {
     "name": "stdout",
     "output_type": "stream",
     "text": [
      "Opened the file...\n",
      "Closeed the file...\n"
     ]
    }
   ],
   "source": [
    "test_difficulty = \"2_digit_prime\"\n",
    "\n",
    "json_file = f\"../json_sampled/{test_difficulty}.json\"\n",
    "save_file = f\"../output2/{test_difficulty}.txt\"\n",
    "make_output(save_file, json_file)"
   ]
  },
  {
   "cell_type": "code",
   "execution_count": 30,
   "metadata": {},
   "outputs": [
    {
     "name": "stdout",
     "output_type": "stream",
     "text": [
      "Opened the file...\n",
      "Closeed the file...\n"
     ]
    }
   ],
   "source": [
    "test_difficulty = \"3_digit_prime\"\n",
    "\n",
    "json_file = f\"../json_sampled/{test_difficulty}.json\"\n",
    "save_file = f\"../output2/{test_difficulty}.txt\"\n",
    "make_output(save_file, json_file)"
   ]
  },
  {
   "cell_type": "code",
   "execution_count": 31,
   "metadata": {},
   "outputs": [
    {
     "name": "stdout",
     "output_type": "stream",
     "text": [
      "Opened the file...\n",
      "Closeed the file...\n"
     ]
    }
   ],
   "source": [
    "test_difficulty = \"4_digit_prime\"\n",
    "\n",
    "json_file = f\"../json_sampled/{test_difficulty}.json\"\n",
    "save_file = f\"../output2/{test_difficulty}.txt\"\n",
    "make_output(save_file, json_file)"
   ]
  },
  {
   "cell_type": "code",
   "execution_count": 35,
   "metadata": {},
   "outputs": [
    {
     "name": "stdout",
     "output_type": "stream",
     "text": [
      "Opened the file...\n",
      "Closeed the file...\n"
     ]
    }
   ],
   "source": [
    "test_difficulty = \"3_digit_easy_composite\"\n",
    "\n",
    "json_file = f\"../json_sampled/{test_difficulty}.json\"\n",
    "save_file = f\"../output2/{test_difficulty}.txt\"\n",
    "make_output(save_file, json_file)"
   ]
  },
  {
   "cell_type": "code",
   "execution_count": 36,
   "metadata": {},
   "outputs": [
    {
     "name": "stdout",
     "output_type": "stream",
     "text": [
      "Opened the file...\n",
      "Closeed the file...\n"
     ]
    }
   ],
   "source": [
    "test_difficulty = \"3_digit_medium_composite\"\n",
    "\n",
    "json_file = f\"../json_sampled/{test_difficulty}.json\"\n",
    "save_file = f\"../output2/{test_difficulty}.txt\"\n",
    "make_output(save_file, json_file)"
   ]
  },
  {
   "cell_type": "code",
   "execution_count": 37,
   "metadata": {},
   "outputs": [
    {
     "name": "stdout",
     "output_type": "stream",
     "text": [
      "Opened the file...\n",
      "Closeed the file...\n"
     ]
    }
   ],
   "source": [
    "test_difficulty = \"4_digit_hard_composite\"\n",
    "\n",
    "json_file = f\"../json_sampled/{test_difficulty}.json\"\n",
    "save_file = f\"../output2/{test_difficulty}.txt\"\n",
    "make_output(save_file, json_file)"
   ]
  },
  {
   "cell_type": "code",
   "execution_count": 38,
   "metadata": {},
   "outputs": [
    {
     "name": "stdout",
     "output_type": "stream",
     "text": [
      "Opened the file...\n",
      "Closeed the file...\n"
     ]
    }
   ],
   "source": [
    "test_difficulty = \"4_digit_easy_composite\"\n",
    "\n",
    "json_file = f\"../json_sampled/{test_difficulty}.json\"\n",
    "save_file = f\"../output2/{test_difficulty}.txt\"\n",
    "make_output(save_file, json_file)"
   ]
  },
  {
   "cell_type": "code",
   "execution_count": 39,
   "metadata": {},
   "outputs": [
    {
     "name": "stdout",
     "output_type": "stream",
     "text": [
      "Opened the file...\n",
      "Closeed the file...\n"
     ]
    }
   ],
   "source": [
    "test_difficulty = \"4_digit_medium_composite\"\n",
    "\n",
    "json_file = f\"../json_sampled/{test_difficulty}.json\"\n",
    "save_file = f\"../output2/{test_difficulty}.txt\"\n",
    "make_output(save_file, json_file)"
   ]
  },
  {
   "cell_type": "code",
   "execution_count": null,
   "metadata": {},
   "outputs": [],
   "source": []
  },
  {
   "cell_type": "code",
   "execution_count": null,
   "metadata": {},
   "outputs": [],
   "source": []
  }
 ],
 "metadata": {
  "kernelspec": {
   "display_name": "jok",
   "language": "python",
   "name": "python3"
  },
  "language_info": {
   "codemirror_mode": {
    "name": "ipython",
    "version": 3
   },
   "file_extension": ".py",
   "mimetype": "text/x-python",
   "name": "python",
   "nbconvert_exporter": "python",
   "pygments_lexer": "ipython3",
   "version": "3.11.7"
  },
  "orig_nbformat": 4
 },
 "nbformat": 4,
 "nbformat_minor": 2
}
