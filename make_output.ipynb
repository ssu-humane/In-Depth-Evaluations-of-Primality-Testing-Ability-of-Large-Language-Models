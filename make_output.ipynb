{
 "cells": [
  {
   "cell_type": "code",
   "execution_count": 2,
   "metadata": {},
   "outputs": [],
   "source": [
    "from utils import chatgpt"
   ]
  },
  {
   "cell_type": "code",
   "execution_count": 3,
   "metadata": {},
   "outputs": [],
   "source": [
    "def write_output(question, file_path):\n",
    "    answer = chatgpt(question)\n",
    "    answer = \"###\\n\" + answer + \"\\n\"\n",
    "    f = open(file_path, \"a\", encoding=\"UTF-8\")\n",
    "    f.write(answer)\n",
    "    f.close()"
   ]
  },
  {
   "cell_type": "code",
   "execution_count": null,
   "metadata": {},
   "outputs": [],
   "source": [
    "import json \n",
    "from utils import chatgpt\n",
    "\n",
    "with open(\"../json/2_digit_prime.json\") as file:\n",
    "    digit_2_prime = json.load(file)\n",
    "\n",
    "f = open(\"../output/2_digit_output.txt\", \"r\", encoding='UTF-8')\n",
    "\n",
    "text = f.read()\n",
    "x_idx = text.count(\"###\") // 4\n",
    "q_idx = text.count(\"###\") %  4\n",
    "\n",
    "for x in digit_2_prime[x_idx:]:\n",
    "    questions = [x['question1'], x['question2'], x['question3'], x['question4']]\n",
    "    for question in questions[q_idx:]:\n",
    "        write_output(question, '../output/2_digit_output.txt')\n",
    "    q_idx = 0\n"
   ]
  },
  {
   "cell_type": "code",
   "execution_count": null,
   "metadata": {},
   "outputs": [],
   "source": [
    "import json \n",
    "from utils import chatgpt \n",
    "\n",
    "with open(\"../json/3_digit_prime.json\") as file: \n",
    "    digit_3_prime = json.load(file) \n",
    "\n",
    "f = open(\"../output/3_digit_prime_output.txt\", \"r\", encoding='UTF-8')\n",
    "text = f.read()\n",
    "x_idx = text.count(\"###\") // 4\n",
    "q_idx = text.count(\"###\") %  4\n",
    "\n",
    "for x in digit_3_prime[x_idx:]:\n",
    "    questions = [x['question1'], x['question2'], x['question3'], x['question4']]\n",
    "    for question in questions[q_idx:]:\n",
    "        write_output(question, '../output/3_digit_prime_output.txt')\n",
    "    q_idx = 0"
   ]
  },
  {
   "cell_type": "code",
   "execution_count": null,
   "metadata": {},
   "outputs": [],
   "source": [
    "import json \n",
    "from utils import chatgpt \n",
    "\n",
    "with open(\"../json/4_digit_prime.json\") as file: \n",
    "    digit_4_prime = json.load(file) \n",
    "\n",
    "f = open(\"../output/4_digit_prime_output.txt\", \"r\", encoding='UTF-8')\n",
    "text = f.read()\n",
    "x_idx = text.count(\"###\") // 4\n",
    "q_idx = text.count(\"###\") %  4\n",
    "\n",
    "for x in digit_4_prime[x_idx:]:\n",
    "    questions = [x['question1']+\" The answer is: \", x['question2'], x['question3']+\" The answer is: \", x['question4']]\n",
    "    for question in questions[q_idx:]:\n",
    "        write_output(question, '../output/4_digit_prime_output.txt')\n",
    "    q_idx = 0"
   ]
  },
  {
   "cell_type": "code",
   "execution_count": null,
   "metadata": {},
   "outputs": [],
   "source": [
    "import json \n",
    "from utils import chatgpt \n",
    "\n",
    "with open(\"../json/2_digit_composite.json\") as file: \n",
    "    digit_2_composite = json.load(file) \n",
    "\n",
    "f = open(\"../output/2_digit_composite_output.txt\", \"r\", encoding='UTF-8')\n",
    "text = f.read()\n",
    "x_idx = text.count(\"###\") // 6\n",
    "q_idx = text.count(\"###\") %  6\n",
    "\n",
    "for x in digit_2_composite[x_idx:]:\n",
    "    questions = [x['question1']+\" The answer is: \", x['question2'], x['question3']+\" The answer is: \", x['question4'], x['question5'], x['question6']]\n",
    "    for question in questions[q_idx:]:\n",
    "        write_output(question, '../output/2_digit_composite_output.txt')\n",
    "    q_idx = 0"
   ]
  },
  {
   "cell_type": "code",
   "execution_count": null,
   "metadata": {},
   "outputs": [],
   "source": [
    "import json \n",
    "from utils import chatgpt \n",
    "\n",
    "with open(\"../json/3_digit_easy_composite.json\") as file: \n",
    "    digit_3_composite = json.load(file) \n",
    "\n",
    "f = open(\"../output/3_digit_easy_composite_output.txt\", \"r\", encoding='UTF-8')\n",
    "text = f.read()\n",
    "x_idx = text.count(\"###\") // 6\n",
    "q_idx = text.count(\"###\") %  6\n",
    "\n",
    "for x in digit_3_composite[x_idx:]:\n",
    "    questions = [x['question1']+\" The answer is: \", x['question2'], x['question3']+\" The answer is: \", x['question4'], x['question5'], x['question6']]\n",
    "    for question in questions[q_idx:]:\n",
    "        write_output(question, '../output/3_digit_easy_composite_output.txt')\n",
    "    q_idx = 0"
   ]
  },
  {
   "cell_type": "code",
   "execution_count": null,
   "metadata": {},
   "outputs": [],
   "source": [
    "import random\n",
    "\n",
    "random.seed(1024)\n",
    "\n",
    "import json \n",
    "from utils import chatgpt \n",
    "\n",
    "with open(\"../json/3_digit_medium_composite.json\") as file: \n",
    "    digit_3_composite = json.load(file) \n",
    "\n",
    "\n",
    "# sampleList_digit_3_medium = random.sample(digit_3_composite, 500)\n",
    "\n",
    "f = open(\"../output/3_digit_medium_composite_output.txt\", \"r\", encoding='UTF-8')\n",
    "text = f.read()\n",
    "x_idx = text.count(\"###\") // 6\n",
    "q_idx = text.count(\"###\") %  6\n",
    "\n",
    "for x in digit_3_composite[x_idx:]:\n",
    "    questions = [x['question1']+\" The answer is: \", x['question2'], x['question3']+\" The answer is: \", x['question4'], x['question5'], x['question6']]\n",
    "    for question in questions[q_idx:]:\n",
    "        write_output(question, '../output/3_digit_medium_composite_output.txt')\n",
    "    q_idx = 0"
   ]
  },
  {
   "cell_type": "code",
   "execution_count": 12,
   "metadata": {},
   "outputs": [],
   "source": [
    "import random\n",
    "\n",
    "random.seed(1024)\n",
    "\n",
    "import json \n",
    "from utils import chatgpt \n",
    "\n",
    "with open(\"../json/4_digit_easy_composite.json\") as file: \n",
    "    digit_4_composite = json.load(file) \n",
    "\n",
    "sampleList_digit_4_easy = random.sample(digit_4_composite, 500)\n",
    "\n",
    "f = open(\"../output/4_digit_easy_composite_output.txt\", \"r\", encoding='UTF-8')\n",
    "text = f.read()\n",
    "x_idx = text.count(\"###\") // 6\n",
    "q_idx = text.count(\"###\") %  6\n",
    "\n",
    "for x in sampleList_digit_4_easy[x_idx:]:\n",
    "    questions = [x['question1']+\" The answer is: \", x['question2'], x['question3']+\" The answer is: \", x['question4'], x['question5'], x['question6']]\n",
    "    for question in questions[q_idx:]:\n",
    "        write_output(question, '../output/4_digit_easy_composite_output.txt')\n",
    "    q_idx = 0"
   ]
  },
  {
   "cell_type": "code",
   "execution_count": 25,
   "metadata": {},
   "outputs": [],
  },
  {
   "cell_type": "code",
   "execution_count": null,
   "metadata": {},
   "outputs": [],
   "source": [
    "import random\n",
    "\n",
    "random.seed(1024)\n",
    "\n",
    "import json \n",
    "from utils import chatgpt \n",
    "\n",
    "with open(\"../json/4_digit_hard_composite.json\") as file: \n",
    "    digit_4_composite = json.load(file) \n",
    "\n",
    "# under 500\n",
    "sampleList_digit_4_hard = digit_4_composite\n",
    "\n",
    "f = open(\"../output/4_digit_hard_composite_output.txt\", \"r\", encoding='UTF-8')\n",
    "text = f.read()\n",
    "x_idx = text.count(\"###\") // 6\n",
    "q_idx = text.count(\"###\") %  6\n",
    "\n",
    "for x in sampleList_digit_4_hard[x_idx:]:\n",
    "    questions = [x['question1']+\" The answer is: \", x['question2'], x['question3']+\" The answer is: \", x['question4'], x['question5'], x['question6']]\n",
    "    for question in questions[q_idx:]:\n",
    "        write_output(question, '../output/4_digit_hard_composite_output.txt')\n",
    "    q_idx = 0"
   ]
  }
 ],
 "metadata": {
  "kernelspec": {
   "display_name": "humane2",
   "language": "python",
   "name": "conda"
  },
  "language_info": {
   "codemirror_mode": {
    "name": "ipython",
    "version": 3
   },
   "file_extension": ".py",
   "mimetype": "text/x-python",
   "name": "python",
   "nbconvert_exporter": "python",
   "pygments_lexer": "ipython3",
   "version": "3.10.11"
  },
  "orig_nbformat": 4
 },
 "nbformat": 4,
 "nbformat_minor": 2
}
