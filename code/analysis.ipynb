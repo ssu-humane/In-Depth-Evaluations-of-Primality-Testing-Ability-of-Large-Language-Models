{
 "cells": [
  {
   "cell_type": "code",
   "execution_count": 69,
   "metadata": {},
   "outputs": [],
   "source": [
    "from utils import chatgpt\n",
    "import json "
   ]
  },
  {
   "cell_type": "markdown",
   "metadata": {},
   "source": [
    "### Is Prime"
   ]
  },
  {
   "cell_type": "code",
   "execution_count": 79,
   "metadata": {},
   "outputs": [
    {
     "name": "stdout",
     "output_type": "stream",
     "text": [
      "No, 2017 is a prime number.\n",
      "\n",
      "350 150 81 500\n"
     ]
    }
   ],
   "source": [
    "text = open(\"TheAnswerIs.txt\", \"r\")\n",
    "answers = text.readlines()\n",
    "\n",
    "yes = 0\n",
    "no  = 0\n",
    "hallucination = 0\n",
    "cases = ['It can be divided', 'It is divisible', 'It can be evenly divided']\n",
    "\n",
    "for answer in answers:\n",
    "    # Yes, 16447 is a prime number.\n",
    "    if 'Yes' in answer:\n",
    "        yes += 1  \n",
    "        \n",
    "    # 1621 is a prime number.\n",
    "    elif 'is a prime number' in answer:\n",
    "        yes += 1\n",
    "        \n",
    "    # No, 14639 is not a prime number.\n",
    "    elif 'No' in answer:\n",
    "        no += 1\n",
    "        \n",
    "        # No, 14639 is not a prime number. It can be divided evenly by 7 and 2091.\n",
    "        if  any(case in answer for case in cases):\n",
    "            hallucination += 1\n",
    "            \n",
    "    # 8329 is not a prime number.\n",
    "    elif 'is not a prime number' in answer:\n",
    "        no += 1\n",
    "        # 없어도 결과 동일.\n",
    "        \n",
    "    if ('No' in answer) and ('is a prime number' in answer):\n",
    "        print(answer)\n",
    "    if ('Yes' in answer) and ('is not a prime number' in answer):\n",
    "        print(answer)\n",
    "        \n",
    "print(yes, no, hallucination, yes+no)"
   ]
  },
  {
   "cell_type": "markdown",
   "metadata": {},
   "source": [
    "### Is Not Pirme"
   ]
  },
  {
   "cell_type": "code",
   "execution_count": 24,
   "metadata": {},
   "outputs": [
    {
     "name": "stdout",
     "output_type": "stream",
     "text": [
      "No, 10201 is not a prime number. It can be divided by 101 and 101 itself is a prime number.\n",
      "\n",
      "312 188 104 500\n"
     ]
    }
   ],
   "source": [
    "text = open(\"TheAnswerIsNo.txt\", \"r\")\n",
    "answers = text.readlines()\n",
    "\n",
    "yes = 0\n",
    "no  = 0\n",
    "hallucination = 0\n",
    "cases = ['by', 'divisible', 'divided', 'into']\n",
    "\n",
    "for answer in answers:\n",
    "    # Yes, 16447 is a prime number.\n",
    "    if 'Yes' in answer:\n",
    "        yes += 1  \n",
    "        \n",
    "    # 1621 is a prime number.\n",
    "    elif 'is a prime number' in answer:\n",
    "        yes += 1\n",
    "        \n",
    "    # No, 14639 is not a prime number.\n",
    "    elif 'No' in answer:\n",
    "        no += 1\n",
    "        # No, 14639 is not a prime number. It can be divided evenly by 7 and 2091.\n",
    "        if  any(case in answer for case in cases):\n",
    "            hallucination += 1\n",
    "            \n",
    "    # 8329 is not a prime number.\n",
    "    elif 'is not a prime number' in answer:\n",
    "        no += 1\n",
    "        if  any(case in answer for case in cases):\n",
    "            hallucination += 1\n",
    "        # 없어도 결과 동일.\n",
    "        \n",
    "    if ('No' in answer) and ('is a prime number' in answer):\n",
    "        print(answer)\n",
    "        if  any(case in answer for case in cases):\n",
    "            hallucination += 1\n",
    "    if ('Yes' in answer) and ('is not a prime number' in answer):\n",
    "        print(answer)\n",
    "        \n",
    "        \n",
    "print(yes, no, hallucination, yes+no)"
   ]
  },
  {
   "cell_type": "markdown",
   "metadata": {},
   "source": [
    "### Make a Graph"
   ]
  },
  {
   "cell_type": "code",
   "execution_count": 59,
   "metadata": {},
   "outputs": [],
   "source": [
    "prime_yes, prime_no, prime_hallucination = 350, 150, 81\n",
    "not_prime_yes, not_prime_no, not_prime_hallucination = 312, 188, 104\n",
    "not_t_yes, not_t_no = 341, 159\n",
    "sts_yes, sts_no = 465, 35"
   ]
  },
  {
   "cell_type": "code",
   "execution_count": 61,
   "metadata": {},
   "outputs": [
    {
     "data": {
      "text/plain": [
       "<BarContainer object of 1 artists>"
      ]
     },
     "execution_count": 61,
     "metadata": {},
     "output_type": "execute_result"
    },
    {
     "data": {
      "image/png": "[encoded data removed]",
      "text/plain": [
       "<Figure size 400x500 with 1 Axes>"
      ]
     },
     "metadata": {},
     "output_type": "display_data"
    }
   ],
   "source": [
    "import pandas as pd\n",
    "import matplotlib.pyplot as plt\n",
    "\n",
    "fig, ax = plt.subplots()\n",
    "# 피규어 크기\n",
    "fig.set_size_inches(4, 5)\n",
    "# 그래프 뒤에 그리드 그리기\n",
    "ax.set_axisbelow(True)\n",
    "# y 축만 그리드 그리기\n",
    "ax.grid(True, axis='y')\n",
    "# bar 그리기\n",
    "ax.bar(\"prime\", prime_no,  label = 'B', color = '#fc4e03')\n",
    "ax.bar(\"prime\", prime_hallucination, label=\"hallucination\",color='#fc4e03', edgecolor='black', hatch='/')\n",
    "ax.bar(\"prime\", prime_yes, label = 'A', color = '#0599e8', bottom = prime_no)\n",
    "\n",
    "ax.bar(\"not_prime\", not_prime_no,  label = 'B', color = '#fc4e03')\n",
    "ax.bar(\"not_prime\", not_prime_yes, label = 'A', color = '#0599e8', bottom = not_prime_no)\n",
    "ax.bar(\"not_prime\", not_prime_hallucination, label=\"hallucination\",color='#fc4e03', edgecolor='black', hatch='/')\n",
    "\n",
    "ax.bar(\"not_STS\", not_t_no,  label = 'B', color = '#fc4e03')\n",
    "ax.bar(\"not_STS\", not_t_yes, label = 'A', color = '#0599e8', bottom = not_t_no)\n",
    "\n",
    "ax.bar(\"not_STS2\", sts_no,  label = 'B', color = '#fc4e03')\n",
    "ax.bar(\"not_STS2\", sts_yes, label = 'A', color = '#0599e8', bottom = sts_no)\n",
    "# 386(77.2%) # 114"
   ]
  },
  {
   "cell_type": "markdown",
   "metadata": {},
   "source": [
    "### 문제점. not_prime 데이터에서 no 라고 대답했을 때, 설명된 이유가 논리상 맞지 않음. \n",
    "#### 세팅을 최소 50 이상의 소수를 곱해서 만든 정수들인데, 7로 나누어진다고 설명한 경우가 많았음. \n",
    "\n",
    "#### => 결과적으로 3개의 케이스를 제외하고는 명확하게 푼 것이 없음\n",
    "###### case1) No, 17711 is not a prime number. It can be divided evenly by numbers such as 89 and 199. True\n",
    "###### case2) No, 7921 is not a prime number. It is divisible by 89 and 89 multiplied by 89 gives 7921. True\n",
    "###### case3) No, 10201 is not a prime number. It can be divided by 101 and 101 itself is a prime number. True"
   ]
  },
  {
   "cell_type": "code",
   "execution_count": 31,
   "metadata": {},
   "outputs": [
    {
     "name": "stdout",
     "output_type": "stream",
     "text": [
      "Under 50 : 92\n",
      "Above 50 : 12\n"
     ]
    }
   ],
   "source": [
    "import re \n",
    "text = open(\"TheAnswerIsNo.txt\", \"r\")\n",
    "answers = text.readlines()\n",
    "\n",
    "cases = ['by', 'divisible', 'divided', 'into']\n",
    "hallucination = 0\n",
    "\n",
    "for answer in answers:\n",
    "    # No, 14639 is not a prime number.\n",
    "    if 'No' in answer:\n",
    "        # No, 14639 is not a prime number. It can be divided evenly by 7 and 2091.\n",
    "        if answer == \"\":\n",
    "            continue\n",
    "        if  any(case in answer for case in cases):\n",
    "            numbers = re.findall(r'\\d+', answer)\n",
    "            k = [False for i in numbers if int(i) < 50]\n",
    "            if False in k :\n",
    "                hallucination+=1\n",
    "                continue\n",
    "            else:\n",
    "                # print(answer)\n",
    "                pass\n",
    "\n",
    "print(\"Under 50 :\", hallucination)\n",
    "print(\"Above 50 :\", 104-hallucination)\n",
    "\n",
    "# No, 44599 is not a prime number. It is divisible by 59 and 757. False\n",
    "# No, 39203 is not a prime number. It can be evenly divided by 59 and 79, among other factors. False\n",
    "# No, 43429 is not a prime number. It is divisible by 59 and 733. False\n",
    "# No, 17711 is not a prime number. It can be divided evenly by numbers such as 89 and 199. True\n",
    "# No, 33233 is not a prime number. It is divisible by 59 and 563. False\n",
    "# No, 7921 is not a prime number. It is divisible by 89 and 89 multiplied by 89 gives 7921. True\n",
    "# No, 10201 is not a prime number. It can be divided by 101 and 101 itself is a prime number. True\n",
    "# No, 29521 is not a prime number. It can be divided evenly by 59 and 501. False\n",
    "# No, 7081 is not a prime number. It is divisible by 53 and 67. False\n",
    "# No, 40081 is not a prime number. It is divisible by 73 and 547. False\n",
    "# No, 43831 is not a prime number. It is divisible by 61 and 719. False\n",
    "# No, 29999 is not a prime number. It can be factored into 59 占쏙옙 509. False "
   ]
  },
  {
   "cell_type": "markdown",
   "metadata": {},
   "source": [
    "# Let's think step by step"
   ]
  },
  {
   "cell_type": "code",
   "execution_count": 67,
   "metadata": {},
   "outputs": [
    {
     "name": "stdout",
     "output_type": "stream",
     "text": [
      "<class 'str'>\n",
      "348 152 174 143\n"
     ]
    }
   ],
   "source": [
    "import json\n",
    "f = open(\"StepByStepNO.txt\", \"r\",encoding='UTF-8')\n",
    "with open(\"not_primality_testing.json\") as file:\n",
    "    not_primality = json.load(file)\n",
    "    \n",
    "text = (f.read())\n",
    "print(type(text))\n",
    "start_idx = text.find(\"###\")\n",
    "yes = 0\n",
    "no  = 0\n",
    "simple_yes = 0\n",
    "simple_no = 0\n",
    "else_case = []\n",
    "# hallucination = 0\n",
    "# cases = ['by', 'divisible', 'divided', 'into']\n",
    "# l = \"\"\n",
    "for x in not_primality:\n",
    "    number = x['number']\n",
    "    end_idx   = text.find(\"###\", start_idx+1)\n",
    "    output = text[start_idx:end_idx]\n",
    "    start_idx = end_idx   \n",
    "\n",
    "    if \"No\" in output:\n",
    "        no+=1\n",
    "        simple_no+=1\n",
    "    elif \"Yes\" in output:\n",
    "        yes+=1\n",
    "        simple_yes+=1\n",
    "    elif f\"we can conclude that {number} is a prime number\" in text:\n",
    "        yes+=1\n",
    "    # elif \"it is a prime number.\" in output:\n",
    "    #     yes+=1\n",
    "    elif \"it is not a prime number.\" in output:\n",
    "        no += 1\n",
    "    elif \"it is only divisible by 1 and itself\" in text:\n",
    "        yes+=1\n",
    "    elif f\"{number} does not have any factors other than 1 and itself\" in text:\n",
    "        yes+=1\n",
    "    elif f\"{number} is likely a prime number.\" in text:\n",
    "        yes+=1\n",
    "    elif \"it is not divisible\" in output:\n",
    "        yes+=1\n",
    "    elif f\"{number} is indeed a prime number\" in text:\n",
    "        yes+=1\n",
    "    elif f\"{number} is a prime number.\" in text:\n",
    "        yes+=1\n",
    "\n",
    "    elif f\"{number} is not a prime number.\" in text:\n",
    "        no+=1 \n",
    "    elif \"we can conclude that it is a prime number.\" in output:\n",
    "        yes+=1\n",
    "    else:\n",
    "        else_case.append(output)\n",
    "\n",
    "print(yes, no, simple_yes, simple_no)\n",
    "# print(yes, no, hallucination, yes+no)"
   ]
  },
  {
   "cell_type": "code",
   "execution_count": 68,
   "metadata": {},
   "outputs": [
    {
     "data": {
      "text/plain": [
       "[]"
      ]
     },
     "execution_count": 68,
     "metadata": {},
     "output_type": "execute_result"
    }
   ],
   "source": [
    "else_case"
   ]
  },
  {
   "cell_type": "code",
   "execution_count": 72,
   "metadata": {},
   "outputs": [
    {
     "name": "stdout",
     "output_type": "stream",
     "text": [
      "465 35 0\n"
     ]
    }
   ],
   "source": [
    "import json\n",
    "\n",
    "f = open(\"StepByStepNO2.txt\", \"r\", encoding='UTF-8')\n",
    "\n",
    "with open(\"not_primality_testing.json\") as file:\n",
    "    not_primality = json.load(file)\n",
    "    \n",
    "text = f.read()\n",
    "start_idx = text.find(\"###\")\n",
    "yes = 0\n",
    "no  = 0\n",
    "idk = 0\n",
    "idk_case = []\n",
    "no_case = []\n",
    "# hallucination = 0\n",
    "for x in not_primality:\n",
    "    number = x['number']\n",
    "    end_idx   = text.find(\"###\", start_idx+1)\n",
    "    output = text[start_idx:end_idx]\n",
    "    start_idx = end_idx   \n",
    "    # print(output)\n",
    "    if f\"Therefore, {number} is not a prime number\" in text:\n",
    "        no+=1\n",
    "        no_case.append(output)\n",
    "    elif f\"Therefore, {number} is a prime number\" in text:\n",
    "        yes+=1\n",
    "    elif f\"we can conclude that {number} is a prime number\" in text:\n",
    "        yes+=1\n",
    "    elif f\"Therefore, {number} is a prime number\" in text:\n",
    "        yes+=1\n",
    "    elif f\"Hence, we can conclude that {number} is a prime number.\" in text:\n",
    "        yes+=1\n",
    "    elif f\"yes, {number} is a prime number\" in text:\n",
    "        yes+=1\n",
    "    elif f\"we find that {number} is indeed a prime number\" in text:\n",
    "        yes+=1\n",
    "    elif f\"{number} is not divisible by any number other than 1 and itself\" in text:\n",
    "        yes+=1\n",
    "    elif f\"we can say that {number} is a prime number.\" in text:\n",
    "        yes+=1\n",
    "    elif f\"Consequently, {number} is a prime number.\" in text:\n",
    "        yes+=1\n",
    "    elif f\"Therefore, {number} is indeed a prime number\" in text:\n",
    "        yes+=1\n",
    "    elif f\"the conclusion is that {number} is a prime number.\" in text:\n",
    "        yes+=1\n",
    "    else:\n",
    "        idk_case.append(output)\n",
    "        idk+=1\n",
    "\n",
    "    # print(f\"we can conclude that {number} is a prime number\")\n",
    "    # print(type(number))\n",
    "print(yes+101-17, no+17, idk-101)\n",
    "# print(len(else_case))"
   ]
  },
  {
   "cell_type": "code",
   "execution_count": null,
   "metadata": {},
   "outputs": [],
   "source": [
    "# 9313(False) 47143(False) 11881(True) 6889(True) 14213(False) 38849(False) 39421(False) 12139(False) 31429(False) 36359(False) 31831(False)\n",
    "# 18961(False) 20291(False) 37771(False) 24461(False) 7979(False) 44861 (False)  \n",
    "# 17\n",
    "# 11857(False) 38761(False) 28207(False) 16147(False) 17287(False) 14101(False) 46793(False) 46367(False) 34163(False) 38081(False) 49601(False)\n",
    "# 30623(False) 9727(False) 25387(False) 41827 (False) 13393(False) 32041(False) 33653(False)\n",
    "# 18\n",
    "\n",
    "# 6889, 11881 \n",
    "\n",
    "# 제곱수 잘 찾음.\n",
    "\n",
    "# 소수를 찾는 방식이 정수에 루트를 씌워 나온 수 전까지 나누어지는지 체크하기 때문에 그렇다.\n",
    "\n",
    "# 그렇지 않은 경우에는 공들여 틀린다. \n",
    "idk_case\n",
    "# for case in no_case:\n",
    "#     print(case)"
   ]
  },
  {
   "cell_type": "markdown",
   "metadata": {},
   "source": [
    "# 2-digit-PrimeNumber"
   ]
  },
  {
   "cell_type": "code",
   "execution_count": 25,
   "metadata": {},
   "outputs": [],
   "source": [
    "def check(output, number, text):\n",
    "    if \"No\" in output:\n",
    "        return False\n",
    "    elif \"Yes\" in output:\n",
    "        return True\n",
    "    elif f\"we can conclude that {number} is a prime number\" in text:\n",
    "        return True\n",
    "    # elif \"it is a prime number.\" in output:\n",
    "    #     return True\n",
    "    elif \"it is not a prime number.\" in output:\n",
    "        return False\n",
    "    elif \"it is only divisible by 1 and itself\" in text:\n",
    "        return True\n",
    "    elif f\"{number} does not have any factors other than 1 and itself\" in text:\n",
    "        return True\n",
    "    elif f\"{number} is likely a prime number.\" in text:\n",
    "        return True\n",
    "    elif \"it is not divisible\" in output:\n",
    "        return True\n",
    "    elif f\"{number} is indeed a prime number\" in text:\n",
    "        return True\n",
    "    elif f\"{number} is a prime number.\" in text:\n",
    "        return True\n",
    "\n",
    "    elif f\"{number} is not a prime number.\" in text:\n",
    "        return False \n",
    "    elif \"we can conclude that it is a prime number.\" in output:\n",
    "        return True\n",
    "    else \n",
    "        return output \n",
    "\n"
   ]
  },
  {
   "cell_type": "code",
   "execution_count": 26,
   "metadata": {},
   "outputs": [
    {
     "name": "stdout",
     "output_type": "stream",
     "text": [
      "38 27 15 4\n",
      "Accuracy:  77.38095238095238\n"
     ]
    }
   ],
   "source": [
    "import json\n",
    "f = open(\"../output/2_digit_prime_output.txt\", \"r\", encoding='UTF-8')\n",
    "with open(\"../json/2_digit_prime.json\") as file:\n",
    "    digit_2_primality = json.load(file)\n",
    "    \n",
    "text = f.read()\n",
    "start_idx = text.find(\"###\")\n",
    "\n",
    "true_positive = 0\n",
    "true_negative = 0\n",
    "false_positive = 0\n",
    "false_negative = 0\n",
    "\n",
    "for x in digit_2_primality:\n",
    "    number = x['number']\n",
    "\n",
    "    for i in range(4):\n",
    "        end_idx   = text.find(\"###\", start_idx+1)\n",
    "        output = text[start_idx:end_idx]\n",
    "        start_idx = end_idx\n",
    "        \n",
    "        if i < 2:\n",
    "            if check(output, number, text):\n",
    "                true_positive += 1\n",
    "            else: \n",
    "                false_negative += 1\n",
    "        else:\n",
    "            if check(output, number, text):\n",
    "                false_positive += 1\n",
    "            else:\n",
    "                true_negative += 1\n",
    "\n",
    "\n",
    "print(true_positive, true_negative, false_positive, false_negative)\n",
    "accuracy = (true_positive+true_negative)/(true_positive + true_negative + false_positive + false_negative)\n",
    "print(\"Accuracy: \", accuracy*100)"
   ]
  },
  {
   "cell_type": "code",
   "execution_count": 27,
   "metadata": {},
   "outputs": [
    {
     "name": "stdout",
     "output_type": "stream",
     "text": [
      "249 110 176 37\n",
      "Accuracy:  62.76223776223776\n"
     ]
    }
   ],
   "source": [
    "import json\n",
    "f = open(\"../output/3_digit_prime_output.txt\", \"r\", encoding='UTF-8')\n",
    "with open(\"../json/3_digit_prime.json\") as file:\n",
    "    digit_3_primality = json.load(file)\n",
    "    \n",
    "text = f.read()\n",
    "start_idx = text.find(\"###\")\n",
    "\n",
    "true_positive = 0\n",
    "true_negative = 0\n",
    "false_positive = 0\n",
    "false_negative = 0\n",
    "\n",
    "for x in digit_3_primality:\n",
    "    number = x['number']\n",
    "\n",
    "    for i in range(4):\n",
    "        end_idx   = text.find(\"###\", start_idx+1)\n",
    "        output = text[start_idx:end_idx]\n",
    "        start_idx = end_idx\n",
    "        \n",
    "        if i < 2:\n",
    "            if check(output, number, text):\n",
    "                true_positive += 1\n",
    "            else: \n",
    "                false_negative += 1\n",
    "        else:\n",
    "            if check(output, number, text):\n",
    "                false_positive += 1\n",
    "            else:\n",
    "                true_negative += 1\n",
    "\n",
    "\n",
    "print(true_positive, true_negative, false_positive, false_negative)\n",
    "accuracy = (true_positive+true_negative)/(true_positive + true_negative + false_positive + false_negative)\n",
    "print(\"Accuracy: \", accuracy*100)"
   ]
  },
  {
   "cell_type": "code",
   "execution_count": 28,
   "metadata": {},
   "outputs": [
    {
     "name": "stdout",
     "output_type": "stream",
     "text": [
      "1575 510 1612 547\n",
      "Accuracy:  49.12818096135721\n"
     ]
    }
   ],
   "source": [
    "import json\n",
    "f = open(\"../output/4_digit_prime_output.txt\", \"r\", encoding='UTF-8')\n",
    "with open(\"../json/4_digit_prime.json\") as file:\n",
    "    digit_4_primality = json.load(file)\n",
    "    \n",
    "text = f.read()\n",
    "start_idx = text.find(\"###\")\n",
    "\n",
    "true_positive = 0\n",
    "true_negative = 0\n",
    "false_positive = 0\n",
    "false_negative = 0\n",
    "\n",
    "for x in digit_4_primality:\n",
    "    number = x['number']\n",
    "\n",
    "    for i in range(4):\n",
    "        end_idx   = text.find(\"###\", start_idx+1)\n",
    "        output = text[start_idx:end_idx]\n",
    "        start_idx = end_idx\n",
    "        \n",
    "        if i < 2:\n",
    "            if check(output, number, text):\n",
    "                true_positive += 1\n",
    "            else: \n",
    "                false_negative += 1\n",
    "        else:\n",
    "            if check(output, number, text):\n",
    "                false_positive += 1\n",
    "            else:\n",
    "                true_negative += 1\n",
    "\n",
    "\n",
    "print(true_positive, true_negative, false_positive, false_negative)\n",
    "accuracy = (true_positive+true_negative)/(true_positive + true_negative + false_positive + false_negative)\n",
    "print(\"Accuracy: \", accuracy*100)"
   ]
  },
  {
   "cell_type": "code",
   "execution_count": null,
   "metadata": {},
   "outputs": [],
   "source": []
  }
 ],
 "metadata": {
  "kernelspec": {
   "display_name": "humane2",
   "language": "python",
   "name": "conda"
  },
  "language_info": {
   "codemirror_mode": {
    "name": "ipython",
    "version": 3
   },
   "file_extension": ".py",
   "mimetype": "text/x-python",
   "name": "python",
   "nbconvert_exporter": "python",
   "pygments_lexer": "ipython3",
   "version": "3.10.11"
  },
  "orig_nbformat": 4
 },
 "nbformat": 4,
 "nbformat_minor": 2
}
